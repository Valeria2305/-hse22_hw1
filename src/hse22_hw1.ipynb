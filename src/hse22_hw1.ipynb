{
  "nbformat": 4,
  "nbformat_minor": 0,
  "metadata": {
    "colab": {
      "provenance": []
    },
    "kernelspec": {
      "name": "python3",
      "display_name": "Python 3"
    },
    "language_info": {
      "name": "python"
    }
  },
  "cells": [
    {
      "cell_type": "markdown",
      "source": [
        "Импорт библиотек:\n",
        "\n",
        "\n"
      ],
      "metadata": {
        "id": "sZgzTQJuIR4h"
      }
    },
    {
      "cell_type": "code",
      "execution_count": null,
      "metadata": {
        "id": "zct6cZQkBt1W"
      },
      "outputs": [],
      "source": [
        "import re"
      ]
    },
    {
      "cell_type": "markdown",
      "source": [
        "Общая функция для подсчета:"
      ],
      "metadata": {
        "id": "Ju4m61epIg0x"
      }
    },
    {
      "cell_type": "code",
      "source": [
        "def counter(f, text, outfile = True):\n",
        "    lengths = []\n",
        "    total_len = 0\n",
        "    num = 0\n",
        "    max_len = 0\n",
        "    length = 0\n",
        "    flag = 0\n",
        "    max_seq = ''\n",
        "    curr_seq = ''\n",
        "    for line in f:\n",
        "        if (line[0] == '>'):\n",
        "            if num != 0:\n",
        "                lengths.append(length)\n",
        "            num += 1\n",
        "            if length >= max_len:\n",
        "                max_len = length\n",
        "                max_seq = curr_seq\n",
        "            curr_seq = ''\n",
        "            length = 0\n",
        "        else:\n",
        "            curr_seq += line.strip()\n",
        "            length += len(line.strip())\n",
        "            total_len += len(line.strip())\n",
        "     \n",
        "    lengths.sort(reverse = True) \n",
        "    for i in lengths:\n",
        "        flag += i\n",
        "        if flag >= total_len / 2:\n",
        "            if outfile == True:\n",
        "                print(f'Анализ {text}\\n\\\n",
        "Общее количество: {num},\\n\\\n",
        "Общая длина: {total_len},\\n\\\n",
        "Длина самого длинного: {max_len},\\n\\\n",
        "N50: {i}\\n')\n",
        "            break\n",
        "    return max_seq"
      ],
      "metadata": {
        "id": "kWoxJ3y4CHy7"
      },
      "execution_count": null,
      "outputs": []
    },
    {
      "cell_type": "markdown",
      "source": [
        "Континги:\n"
      ],
      "metadata": {
        "id": "f1gAmfiCIuTv"
      }
    },
    {
      "cell_type": "code",
      "source": [
        "max_contigs = counter(open('Poil_contig.fa', 'r'), 'Контигов')"
      ],
      "metadata": {
        "colab": {
          "base_uri": "https://localhost:8080/"
        },
        "id": "pHUSZloyEfJG",
        "outputId": "a6d6c5ed-a897-426e-b6d7-68edf3ee4e04"
      },
      "execution_count": null,
      "outputs": [
        {
          "output_type": "stream",
          "name": "stdout",
          "text": [
            "Анализ Контигов\n",
            "Общее количество: 610,\n",
            "Общая длина: 3924012,\n",
            "Длина самого длинного: 179307,\n",
            "N50: 53980\n",
            "\n"
          ]
        }
      ]
    },
    {
      "cell_type": "markdown",
      "source": [
        "\n",
        "Скаффолды:\n"
      ],
      "metadata": {
        "id": "E-Fp1iqwI3q4"
      }
    },
    {
      "cell_type": "code",
      "source": [
        "max_scaffolds = counter(open('Poil_scaffold.fa', 'r'), 'Скаффолдов')"
      ],
      "metadata": {
        "colab": {
          "base_uri": "https://localhost:8080/"
        },
        "id": "yccnue8aFBsR",
        "outputId": "7fddcd8b-566f-4291-aa09-9679df5a54dd"
      },
      "execution_count": null,
      "outputs": [
        {
          "output_type": "stream",
          "name": "stdout",
          "text": [
            "Анализ Скаффолдов\n",
            "Общее количество: 68,\n",
            "Общая длина: 3876321,\n",
            "Длина самого длинного: 3832011,\n",
            "N50: 3832011\n",
            "\n"
          ]
        }
      ]
    },
    {
      "cell_type": "markdown",
      "source": [
        "Количество гэпов:\n"
      ],
      "metadata": {
        "id": "VynKxyVLJDHj"
      }
    },
    {
      "cell_type": "code",
      "source": [
        "print(f'Общая длина гэпов: {max_scaffolds.count(\"N\")}')\n",
        "max_scaffolds = re.sub(r'N{2,}', 'N', max_scaffolds)\n",
        "print(f'Число гэпов: {max_scaffolds.count(\"N\")}')"
      ],
      "metadata": {
        "colab": {
          "base_uri": "https://localhost:8080/"
        },
        "id": "C7kjH4EgFl-H",
        "outputId": "dc1f4cae-cf38-4720-cc35-3d1fd803b459"
      },
      "execution_count": null,
      "outputs": [
        {
          "output_type": "stream",
          "name": "stdout",
          "text": [
            "Общая длина гэпов: 6812\n",
            "Число гэпов: 65\n"
          ]
        }
      ]
    },
    {
      "cell_type": "markdown",
      "source": [
        "Количество гэпов для уменьшенного числа:\n"
      ],
      "metadata": {
        "id": "G6f805ECJg1Y"
      }
    },
    {
      "cell_type": "code",
      "source": [
        "max_scaffolds = counter(open('Poil_gapClosed.fa', 'r'), 'Скаффолдов', False)"
      ],
      "metadata": {
        "id": "ryHyq9UOGuCg"
      },
      "execution_count": 23,
      "outputs": []
    },
    {
      "cell_type": "code",
      "source": [
        "print(f'Общая длина гэпов для обрезанных чтений: {max_scaffolds.count(\"N\")}')\n",
        "max_scaf = re.sub(r'N{2,}', 'N', max_scaffolds)\n",
        "print(f'Число гэпов для обрезанных чтений: {max_scaf.count(\"N\")}')"
      ],
      "metadata": {
        "colab": {
          "base_uri": "https://localhost:8080/"
        },
        "id": "yMAC6ty8HZdr",
        "outputId": "8333cd18-ea41-41ad-fc49-781e9e0f2548"
      },
      "execution_count": 24,
      "outputs": [
        {
          "output_type": "stream",
          "name": "stdout",
          "text": [
            "Общая длина гэпов для обрезанных чтений: 2409\n",
            "Число гэпов для обрезанных чтений: 10\n"
          ]
        }
      ]
    }
  ]
}